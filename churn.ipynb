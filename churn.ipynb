{
 "cells": [
  {
   "cell_type": "markdown",
   "metadata": {},
   "source": [
    "# Explorando dados para estartégia de redução do Churn\n",
    "\n",
    "Objetivos da análise:\n",
    "- Encontrar as melhores variáveis que expliquem o Churn elevado\n",
    "- Traçar hipóteses e comprovar elas por meio de testes estatísticos\n",
    "- Observar as probabilidades e criar perfil de clientes com Churn"
   ]
  },
  {
   "cell_type": "code",
   "execution_count": null,
   "metadata": {},
   "outputs": [],
   "source": []
  }
 ],
 "metadata": {
  "kernelspec": {
   "display_name": "env",
   "language": "python",
   "name": "python3"
  },
  "language_info": {
   "name": "python",
   "version": "3.10.10"
  },
  "orig_nbformat": 4
 },
 "nbformat": 4,
 "nbformat_minor": 2
}
